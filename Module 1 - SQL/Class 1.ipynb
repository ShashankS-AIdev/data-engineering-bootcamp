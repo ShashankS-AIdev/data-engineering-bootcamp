{
 "cells": [
  {
   "cell_type": "markdown",
   "metadata": {
    "application/vnd.databricks.v1+cell": {
     "cellMetadata": {
      "byteLimit": 2048000,
      "rowLimit": 10000
     },
     "inputWidgets": {},
     "nuid": "8168a013-eafd-41f3-8610-90e9b7aa8d9b",
     "showTitle": false,
     "tableResultSettingsMap": {},
     "title": ""
    }
   },
   "source": [
    "First Class of SQL"
   ]
  },
  {
   "cell_type": "code",
   "execution_count": 0,
   "metadata": {
    "application/vnd.databricks.v1+cell": {
     "cellMetadata": {
      "byteLimit": 2048000,
      "implicitDf": true,
      "rowLimit": 10000
     },
     "inputWidgets": {},
     "nuid": "06acbb24-7024-42b9-a282-3d77ca22b56a",
     "showTitle": false,
     "tableResultSettingsMap": {},
     "title": ""
    }
   },
   "outputs": [],
   "source": [
    "%sql \n",
    "CREATE TABLE customers (\n",
    "    customer_id INT ,\n",
    "    first_name VARCHAR(50),\n",
    "    last_name VARCHAR(50),\n",
    "    city VARCHAR(50),\n",
    "    email VARCHAR(100)\n",
    ");"
   ]
  },
  {
   "cell_type": "code",
   "execution_count": 0,
   "metadata": {
    "application/vnd.databricks.v1+cell": {
     "cellMetadata": {
      "byteLimit": 2048000,
      "implicitDf": true,
      "rowLimit": 10000
     },
     "inputWidgets": {},
     "nuid": "b7150eb7-5293-4622-90aa-011ba6f44d55",
     "showTitle": false,
     "tableResultSettingsMap": {},
     "title": ""
    }
   },
   "outputs": [],
   "source": [
    "%sql\n",
    "INSERT INTO customers VALUES\n",
    "(1, 'John', 'Doe', 'Delhi', 'john.doe@example.com'),\n",
    "(2, 'Jane', 'Smith', 'Mumbai', 'jane.smith@example.com'),\n",
    "(3, 'Raj', 'Kumar', 'Bangalore', 'raj.kumar@example.com'),\n",
    "(4, 'Priya', 'Sharma', 'Hyderabad', 'priya.sharma@example.com'),\n",
    "(5, 'Tom', 'Brown', 'Pune', 'tom.brown@example.com'),\n",
    "(6, 'Sara', 'Ali', 'Chennai', 'sara.ali@example.com'),\n",
    "(7, 'Vikram', 'Singh', 'Delhi', 'vikram.singh@example.com'),\n",
    "(8, 'Neha', 'Patel', 'Mumbai', 'neha.patel@example.com'),\n",
    "(9, 'David', 'Lee', 'Kolkata', 'david.lee@example.com'),\n",
    "(10, 'Amit', 'Verma', 'Jaipur', 'amit.verma@example.com'),\n",
    "(11, 'Emily', 'Clark', 'Delhi', 'emily.clark@example.com'),\n",
    "(12, 'Ananya', 'Roy', 'Mumbai', 'ananya.roy@example.com'),\n",
    "(13, 'Sam', 'Wilson', 'Pune', 'sam.wilson@example.com'),\n",
    "(14, 'Pooja', 'Das', 'Hyderabad', 'pooja.das@example.com'),\n",
    "(15, 'Arjun', 'Nair', 'Chennai', 'arjun.nair@example.com'),\n",
    "(16, 'Kavita', 'Gupta', 'Bangalore', 'kavita.gupta@example.com'),\n",
    "(17, 'Robert', 'King', 'Delhi', 'robert.king@example.com'),\n",
    "(18, 'Meera', 'Joshi', 'Mumbai', 'meera.joshi@example.com'),\n",
    "(19, 'Michael', 'Scott', 'Kolkata', 'michael.scott@example.com'),\n",
    "(20, 'Ravi', 'Menon', 'Pune', 'ravi.menon@example.com'),\n",
    "(21, 'Tina', 'Fernandez', 'Delhi', 'tina.fernandez@example.com'),\n",
    "(22, 'Arvind', 'Singh', 'Hyderabad', 'arvind.singh@example.com'),\n",
    "(23, 'Lucy', 'Adams', 'Chennai', 'lucy.adams@example.com'),\n",
    "(24, 'Karan', 'Malhotra', 'Mumbai', 'karan.malhotra@example.com'),\n",
    "(25, 'Sneha', 'Reddy', 'Pune', 'sneha.reddy@example.com'),\n",
    "(26, 'George', 'Mason', 'Bangalore', 'george.mason@example.com'),\n",
    "(27, 'Vishal', 'Kapoor', 'Kolkata', 'vishal.kapoor@example.com'),\n",
    "(28, 'Emma', 'Watson', 'Delhi', 'emma.watson@example.com'),\n",
    "(29, 'Siddharth', 'Jain', 'Hyderabad', 'siddharth.jain@example.com'),\n",
    "(30, 'Olivia', 'Brown', 'Chennai', 'olivia.brown@example.com'),\n",
    "(31, 'Nikhil', 'Arora', 'Mumbai', 'nikhil.arora@example.com'),\n",
    "(32, 'Ayesha', 'Khan', 'Delhi', 'ayesha.khan@example.com'),\n",
    "(33, 'Chris', 'Evans', 'Bangalore', 'chris.evans@example.com'),\n",
    "(34, 'Ishita', 'Bhatt', 'Kolkata', 'ishita.bhatt@example.com'),\n",
    "(35, 'Shyam', 'Patil', 'Pune', 'shyam.patil@example.com'),\n",
    "(36, 'Sophia', 'Green', 'Chennai', 'sophia.green@example.com'),\n",
    "(37, 'Harsh', 'Aggarwal', 'Hyderabad', 'harsh.aggarwal@example.com'),\n",
    "(38, 'Liam', 'Martin', 'Delhi', 'liam.martin@example.com'),\n",
    "(39, 'Diya', 'Saxena', 'Mumbai', 'diya.saxena@example.com'),\n",
    "(40, 'Jason', 'Taylor', 'Kolkata', 'jason.taylor@example.com'),\n",
    "(41, 'Ritika', 'Mehra', 'Pune', 'ritika.mehra@example.com'),\n",
    "(42, 'Steve', 'Jobs', 'Bangalore', 'steve.jobs@example.com'),\n",
    "(43, 'Alisha', 'Paul', 'Hyderabad', 'alisha.paul@example.com'),\n",
    "(44, 'Dhruv', 'Singhania', 'Chennai', 'dhruv.singhania@example.com'),\n",
    "(45, 'Rebecca', 'Lewis', 'Delhi', 'rebecca.lewis@example.com'),\n",
    "(46, 'Naveen', 'Shetty', 'Mumbai', 'naveen.shetty@example.com'),\n",
    "(47, 'Julia', 'Roberts', 'Pune', 'julia.roberts@example.com'),\n",
    "(48, 'Parth', 'Desai', 'Hyderabad', 'parth.desai@example.com'),\n",
    "(49, 'Nina', 'Shah', 'Chennai', 'nina.shah@example.com'),\n",
    "(50, 'Aria', 'Gill', 'Bangalore', 'aria.gill@example.com');"
   ]
  },
  {
   "cell_type": "code",
   "execution_count": 0,
   "metadata": {
    "application/vnd.databricks.v1+cell": {
     "cellMetadata": {
      "byteLimit": 2048000,
      "implicitDf": true,
      "rowLimit": 10000
     },
     "inputWidgets": {},
     "nuid": "ed917492-53d5-496a-8e5e-27c54992e91f",
     "showTitle": false,
     "tableResultSettingsMap": {
      "0": {
       "dataGridStateBlob": null,
       "filterBlob": "{\"version\":1,\"filterGroups\":[{\"enabled\":true,\"filterGroupId\":\"fg_c03e62f5\",\"op\":\"OR\",\"filters\":[{\"filterId\":\"f_4b6b5dc7\",\"enabled\":true,\"columnId\":\"city\",\"dataType\":\"string\",\"filterType\":\"oneof\"}],\"local\":false,\"updatedAt\":1757845246979}],\"syncTimestamp\":1757845246979}",
       "queryPlanFiltersBlob": "[]",
       "tableResultIndex": 0
      }
     },
     "title": ""
    }
   },
   "outputs": [],
   "source": [
    "%sql \n",
    "select * from default.customers"
   ]
  }
 ],
 "metadata": {
  "application/vnd.databricks.v1+notebook": {
   "computePreferences": {
    "hardware": {
     "accelerator": null,
     "gpuPoolId": null,
     "memory": null
    }
   },
   "dashboards": [],
   "environmentMetadata": {
    "base_environment": "",
    "environment_version": "3"
   },
   "inputWidgetPreferences": null,
   "language": "python",
   "notebookMetadata": {
    "mostRecentlyExecutedCommandWithImplicitDF": {
     "commandId": 5862184597679467,
     "dataframes": [
      "_sqldf"
     ]
    },
    "pythonIndentUnit": 4
   },
   "notebookName": "Class 1",
   "widgets": {}
  },
  "language_info": {
   "name": "python"
  }
 },
 "nbformat": 4,
 "nbformat_minor": 0
}
