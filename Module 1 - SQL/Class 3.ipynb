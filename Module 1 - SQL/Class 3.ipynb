{
 "cells": [
  {
   "cell_type": "code",
   "execution_count": 0,
   "metadata": {
    "application/vnd.databricks.v1+cell": {
     "cellMetadata": {
      "byteLimit": 2048000,
      "implicitDf": true,
      "rowLimit": 10000
     },
     "inputWidgets": {},
     "nuid": "a949fef6-b368-4d6d-b7df-c2dd06b605ad",
     "showTitle": false,
     "tableResultSettingsMap": {},
     "title": ""
    }
   },
   "outputs": [],
   "source": [
    "%sql\n",
    "DESCRIBE customers;"
   ]
  },
  {
   "cell_type": "code",
   "execution_count": 0,
   "metadata": {
    "application/vnd.databricks.v1+cell": {
     "cellMetadata": {
      "byteLimit": 2048000,
      "implicitDf": true,
      "rowLimit": 10000
     },
     "inputWidgets": {},
     "nuid": "67a74e27-a102-47b0-8f48-3acf5c4a2128",
     "showTitle": false,
     "tableResultSettingsMap": {},
     "title": ""
    }
   },
   "outputs": [],
   "source": [
    "%sql\n",
    "CREATE TABLE orders(\n",
    "    order_id INT,\n",
    "    customer_id INT,\n",
    "    order_date DATE,\n",
    "    total_amount DECIMAL(10,2)\n",
    ");"
   ]
  },
  {
   "cell_type": "code",
   "execution_count": 0,
   "metadata": {
    "application/vnd.databricks.v1+cell": {
     "cellMetadata": {
      "byteLimit": 2048000,
      "implicitDf": true,
      "rowLimit": 10000
     },
     "inputWidgets": {},
     "nuid": "b59e3545-2856-4c87-a973-77d0f2468842",
     "showTitle": false,
     "tableResultSettingsMap": {},
     "title": ""
    }
   },
   "outputs": [],
   "source": [
    "%sql\n",
    "CREATE TABLE order_details(\n",
    "  order_detail_id INT,\n",
    "  order_id INT,\n",
    "  customer_id INT,\n",
    "  product_id INT,\n",
    "  product_name VARCHAR(100),\n",
    "  category VARCHAR(50),\n",
    "  quantity INT,\n",
    "  price_each DECIMAL(10,2),\n",
    "  order_date DATE\n",
    ");"
   ]
  },
  {
   "cell_type": "code",
   "execution_count": 0,
   "metadata": {
    "application/vnd.databricks.v1+cell": {
     "cellMetadata": {
      "byteLimit": 2048000,
      "implicitDf": true,
      "rowLimit": 10000
     },
     "inputWidgets": {},
     "nuid": "04771c16-dd7d-40a6-b7f6-3d36f5c08240",
     "showTitle": false,
     "tableResultSettingsMap": {},
     "title": ""
    }
   },
   "outputs": [],
   "source": [
    "%sql\n",
    "SELECT * FROM customers; "
   ]
  },
  {
   "cell_type": "code",
   "execution_count": 0,
   "metadata": {
    "application/vnd.databricks.v1+cell": {
     "cellMetadata": {
      "byteLimit": 2048000,
      "implicitDf": true,
      "rowLimit": 10000
     },
     "inputWidgets": {},
     "nuid": "64a11409-754c-421d-9cdf-ac8c1feca7d6",
     "showTitle": false,
     "tableResultSettingsMap": {},
     "title": ""
    }
   },
   "outputs": [],
   "source": [
    "%sql\n",
    "INSERT INTO orders VALUES\n",
    "(1001, 1, '2023-01-10', 1500.00),\n",
    "(1002, 2, '2023-01-11', 2500.00),\n",
    "(1003, 3, '2023-01-15', 500.00),\n",
    "(1004, 1, '2023-02-01', 750.00),\n",
    "(1005, 4, '2023-02-05', 2000.00),\n",
    "(1006, 5, '2023-02-08', 1800.00),\n",
    "(1007, 6, '2023-03-01', 2200.00),\n",
    "(1008, 7, '2023-03-05', 3000.00),\n",
    "(1009, 8, '2023-03-09', 1200.00),\n",
    "(1010, 9, '2023-03-10', 900.00),\n",
    "(1011, 10, '2023-03-12', 1900.00),\n",
    "(1012, 11, '2023-03-15', 1500.00),\n",
    "(1013, 12, '2023-03-18', 2400.00),\n",
    "(1014, 13, '2023-03-20', 600.00),\n",
    "(1015, 14, '2023-03-22', 3000.00),\n",
    "(1016, 15, '2023-03-25', 2800.00),\n",
    "(1017, 16, '2023-03-28', 3200.00),\n",
    "(1018, 17, '2023-03-30', 500.00),\n",
    "(1019, 18, '2023-04-01', 950.00),\n",
    "(1020, 19, '2023-04-03', 1750.00),\n",
    "(1021, 20, '2023-04-05', 2100.00),\n",
    "(1022, 21, '2023-04-08', 1200.00),\n",
    "(1023, 22, '2023-04-10', 1400.00),\n",
    "(1024, 23, '2023-04-12', 800.00),\n",
    "(1025, 24, '2023-04-14', 3300.00),\n",
    "(1026, 25, '2023-04-16', 2400.00),\n",
    "(1027, 26, '2023-04-18', 1800.00),\n",
    "(1028, 27, '2023-04-20', 2000.00),\n",
    "(1029, 28, '2023-04-22', 2200.00),\n",
    "(1030, 29, '2023-04-24', 1950.00),\n",
    "(1031, 30, '2023-04-26', 2600.00),\n",
    "(1032, 31, '2023-04-28', 1550.00),\n",
    "(1033, 32, '2023-05-01', 2700.00),\n",
    "(1034, 33, '2023-05-03', 1000.00),\n",
    "(1035, 34, '2023-05-05', 1900.00),\n",
    "(1036, 35, '2023-05-07', 2100.00),\n",
    "(1037, 36, '2023-05-09', 1100.00),\n",
    "(1038, 37, '2023-05-11', 1250.00),\n",
    "(1039, 38, '2023-05-13', 1850.00),\n",
    "(1040, 39, '2023-05-15', 1400.00),\n",
    "(1041, 40, '2023-05-17', 1750.00),\n",
    "(1042, 41, '2023-05-19', 900.00),\n",
    "(1043, 42, '2023-05-21', 2500.00),\n",
    "(1044, 43, '2023-05-23', 3000.00),\n",
    "(1045, 44, '2023-05-25', 2100.00),\n",
    "(1046, 45, '2023-05-27', 2600.00),\n",
    "(1047, 46, '2023-05-29', 2700.00),\n",
    "(1048, 47, '2023-05-31', 2800.00),\n",
    "(1049, 48, '2023-06-02', 1500.00),\n",
    "(1050, 49, '2023-06-04', 1200.00),\n",
    "(1051, 50, '2023-06-06', 800.00),\n",
    "(1052, 1, '2023-06-08', 2000.00),\n",
    "(1053, 2, '2023-06-10', 2300.00),\n",
    "(1054, 3, '2023-06-12', 1400.00),\n",
    "(1055, 4, '2023-06-14', 1750.00),\n",
    "(1056, 5, '2023-06-16', 2600.00),\n",
    "(1057, 6, '2023-06-18', 2100.00),\n",
    "(1058, 7, '2023-06-20', 900.00),\n",
    "(1059, 8, '2023-06-22', 3000.00),\n",
    "(1060, 9, '2023-06-24', 1200.00),\n",
    "(1061, 10, '2023-06-26', 1850.00),\n",
    "(1062, 11, '2023-06-28', 1750.00),\n",
    "(1063, 12, '2023-06-30', 1600.00),\n",
    "(1064, 13, '2023-07-02', 950.00),\n",
    "(1065, 14, '2023-07-04', 2100.00),\n",
    "(1066, 15, '2023-07-06', 2500.00),\n",
    "(1067, 16, '2023-07-08', 3000.00),\n",
    "(1068, 17, '2023-07-10', 2700.00),\n",
    "(1069, 18, '2023-07-12', 1500.00),\n",
    "(1070, 19, '2023-07-14', 1400.00);"
   ]
  },
  {
   "cell_type": "code",
   "execution_count": 0,
   "metadata": {
    "application/vnd.databricks.v1+cell": {
     "cellMetadata": {
      "byteLimit": 2048000,
      "implicitDf": true,
      "rowLimit": 10000
     },
     "inputWidgets": {},
     "nuid": "a8330cd1-9560-4902-9492-64c2dcccb114",
     "showTitle": false,
     "tableResultSettingsMap": {},
     "title": ""
    }
   },
   "outputs": [],
   "source": [
    "%sql\n",
    "INSERT INTO order_details VALUES\n",
    "(1, 1001, 1, 201, 'Laptop', 'Electronics', 1, 50000.00, '2023-01-10'),\n",
    "(2, 1001, 1, 203, 'Headphones', 'Accessories', 2, 2000.00, '2023-01-10'),\n",
    "(3, 1002, 2, 202, 'Smartphone', 'Electronics', 1, 30000.00, '2023-01-11'),\n",
    "(4, 1003, 3, 205, 'Water Bottle', 'Kitchen', 3, 500.00, '2023-01-15'),\n",
    "(5, 1004, 1, 208, 'Bluetooth Speaker', 'Electronics', 1, 3500.00, '2023-02-01'),\n",
    "(6, 1005, 4, 204, 'Desk Chair', 'Furniture', 1, 4000.00, '2023-02-05'),\n",
    "(7, 1006, 5, 207, 'Office Desk', 'Furniture', 1, 7000.00, '2023-02-08'),\n",
    "(8, 1007, 6, 211, 'Tablet', 'Electronics', 2, 25000.00, '2023-03-01'),\n",
    "(9, 1008, 7, 215, 'Gaming Chair', 'Furniture', 1, 15000.00, '2023-03-05'),\n",
    "(10, 1009, 8, 209, 'Notebook', 'Stationery', 5, 200.00, '2023-03-09');"
   ]
  },
  {
   "cell_type": "code",
   "execution_count": 0,
   "metadata": {
    "application/vnd.databricks.v1+cell": {
     "cellMetadata": {
      "byteLimit": 2048000,
      "implicitDf": true,
      "rowLimit": 10000
     },
     "inputWidgets": {},
     "nuid": "7c81f8b0-af89-4b3e-9105-59dc9c768a2c",
     "showTitle": false,
     "tableResultSettingsMap": {},
     "title": ""
    }
   },
   "outputs": [],
   "source": [
    "%sql\n",
    "--List all the customer orders with product details \n",
    "--INNER JOIN\n",
    "select c.first_name, c.last_name, o.order_id, o.product_name, o.quantity\n",
    "\n",
    "from customers as c inner join order_details as o\n",
    "on c.customer_id = o.customer_id;"
   ]
  },
  {
   "cell_type": "code",
   "execution_count": 0,
   "metadata": {
    "application/vnd.databricks.v1+cell": {
     "cellMetadata": {
      "byteLimit": 2048000,
      "implicitDf": true,
      "rowLimit": 10000
     },
     "inputWidgets": {},
     "nuid": "969fed39-1869-4bb9-b79f-a19730185f39",
     "showTitle": false,
     "tableResultSettingsMap": {},
     "title": ""
    }
   },
   "outputs": [],
   "source": [
    "%sql\n",
    "--Full Breakdown : customers,order, product_info\n",
    "\n",
    "select od.order_id, c.first_name, od.product_name, od.quantity, od.price_each\n",
    "\n",
    "from order_details as od \n",
    "inner join orders as o on od.order_id = o.order_id\n",
    "inner join customers as c on o.customer_id = c.customer_id;"
   ]
  },
  {
   "cell_type": "code",
   "execution_count": 0,
   "metadata": {
    "application/vnd.databricks.v1+cell": {
     "cellMetadata": {
      "byteLimit": 2048000,
      "implicitDf": true,
      "rowLimit": 10000
     },
     "inputWidgets": {},
     "nuid": "ec77cea0-2e85-4489-9af6-df16d3592c89",
     "showTitle": false,
     "tableResultSettingsMap": {},
     "title": ""
    }
   },
   "outputs": [],
   "source": [
    "%sql\n",
    "--show inactive and active customers \n",
    "\n",
    "select c.first_name, c.last_name, o.order_id, o.order_date\n",
    "from customers as c \n",
    "left join orders as o on c.customer_id = o.customer_id\n",
    "sort by o.order_date desc;"
   ]
  },
  {
   "cell_type": "code",
   "execution_count": 0,
   "metadata": {
    "application/vnd.databricks.v1+cell": {
     "cellMetadata": {
      "byteLimit": 2048000,
      "implicitDf": true,
      "rowLimit": 10000
     },
     "inputWidgets": {},
     "nuid": "79f17051-cb8c-4fb1-830b-b89de18bf087",
     "showTitle": false,
     "tableResultSettingsMap": {},
     "title": ""
    }
   },
   "outputs": [],
   "source": [
    "%sql\n",
    "--Identify the Customers who has not placed any order and followup with them\n",
    "\n",
    "select c.first_name, c.last_name\n",
    "from customers as c \n",
    "left join orders as o on c.customer_id = o.customer_id\n",
    "where o.order_id is null;"
   ]
  },
  {
   "cell_type": "code",
   "execution_count": 0,
   "metadata": {
    "application/vnd.databricks.v1+cell": {
     "cellMetadata": {
      "byteLimit": 2048000,
      "implicitDf": true,
      "rowLimit": 10000
     },
     "inputWidgets": {},
     "nuid": "b2fa7121-45a4-467e-9d27-cde1f2b4eb39",
     "showTitle": false,
     "tableResultSettingsMap": {
      "0": {
       "dataGridStateBlob": "{\"version\":1,\"tableState\":{\"columnPinning\":{\"left\":[\"#row_number#\"],\"right\":[]},\"columnSizing\":{},\"columnVisibility\":{}},\"settings\":{\"columns\":{}},\"syncTimestamp\":1758012303854}",
       "filterBlob": "{\"version\":1,\"filterGroups\":[{\"enabled\":true,\"filterGroupId\":\"fg_20542671\",\"op\":\"OR\",\"filters\":[{\"filterId\":\"f_141deaa7\",\"enabled\":true,\"columnId\":\"first_name\",\"dataType\":\"string\",\"filterType\":\"oneof\"}],\"local\":false,\"updatedAt\":1758012323847}],\"syncTimestamp\":1758012323848}",
       "queryPlanFiltersBlob": "[]",
       "tableResultIndex": 0
      }
     },
     "title": ""
    }
   },
   "outputs": [],
   "source": [
    "%sql\n",
    "-- Only shows customers who HAVE orders.\n",
    "\n",
    "select c.first_name, c.last_name, o.order_id, o.order_date\n",
    "from customers as c\n",
    "inner join orders as o \n",
    "on c.customer_id = o.customer_id\n",
    "where order_id is not null;"
   ]
  },
  {
   "cell_type": "code",
   "execution_count": 0,
   "metadata": {
    "application/vnd.databricks.v1+cell": {
     "cellMetadata": {
      "byteLimit": 2048000,
      "implicitDf": true,
      "rowLimit": 10000
     },
     "inputWidgets": {},
     "nuid": "17d7c124-b413-4501-9a15-f2c33f4a8435",
     "showTitle": false,
     "tableResultSettingsMap": {},
     "title": ""
    }
   },
   "outputs": [],
   "source": [
    "%sql\n",
    "-- ✅ Shows ALL customers, whether or not they have orders.\n",
    "\n",
    "select c.first_name, c.last_name, o.order_id, o.order_date\n",
    "from customers as c\n",
    "left join orders as o \n",
    "on c.customer_id = o.customer_id;"
   ]
  },
  {
   "cell_type": "code",
   "execution_count": 0,
   "metadata": {
    "application/vnd.databricks.v1+cell": {
     "cellMetadata": {
      "byteLimit": 2048000,
      "implicitDf": true,
      "rowLimit": 10000
     },
     "inputWidgets": {},
     "nuid": "067581c7-9257-44a9-b885-6639e60b6ab9",
     "showTitle": false,
     "tableResultSettingsMap": {},
     "title": ""
    }
   },
   "outputs": [],
   "source": [
    "%sql\n",
    "select c.first_name, c.last_name, o.order_id, o.order_date\n",
    "from orders as o\n",
    "right join customers as c\n",
    "on o.customer_id = c.customer_id;"
   ]
  },
  {
   "cell_type": "code",
   "execution_count": 0,
   "metadata": {
    "application/vnd.databricks.v1+cell": {
     "cellMetadata": {
      "byteLimit": 2048000,
      "rowLimit": 10000
     },
     "inputWidgets": {},
     "nuid": "5f2c52ed-48e1-4938-8681-ca0c02304340",
     "showTitle": false,
     "tableResultSettingsMap": {},
     "title": ""
    }
   },
   "outputs": [],
   "source": [
    "%sql\n",
    "DESCRIBE employees;"
   ]
  },
  {
   "cell_type": "code",
   "execution_count": 0,
   "metadata": {
    "application/vnd.databricks.v1+cell": {
     "cellMetadata": {
      "byteLimit": 2048000,
      "rowLimit": 10000
     },
     "inputWidgets": {},
     "nuid": "0c6968eb-af1f-4f14-ad27-34bf2e03da48",
     "showTitle": false,
     "tableResultSettingsMap": {},
     "title": ""
    }
   },
   "outputs": [],
   "source": [
    "%sql\n",
    "CREATE TABLE emp(\n",
    "  emp_id INT,\n",
    "  first_name VARCHAR(50),\n",
    "  last_name VARCHAR(50),\n",
    "  manager_id INT,\n",
    "  department VARCHAR(50)\n",
    ");"
   ]
  },
  {
   "cell_type": "code",
   "execution_count": 0,
   "metadata": {
    "application/vnd.databricks.v1+cell": {
     "cellMetadata": {
      "byteLimit": 2048000,
      "rowLimit": 10000
     },
     "inputWidgets": {},
     "nuid": "86707b48-6ead-49f0-9d3a-c0790aaedbe4",
     "showTitle": false,
     "tableResultSettingsMap": {},
     "title": ""
    }
   },
   "outputs": [],
   "source": [
    "%sql\n",
    "INSERT INTO emp VALUES\n",
    "(1, 'Alice', 'Johnson', NULL, 'Management'),\n",
    "(2, 'Bob', 'Smith', 1, 'Sales'),\n",
    "(3, 'Carol', 'Taylor', 1, 'Sales'),\n",
    "(4, 'David', 'Brown', 2, 'Sales'),\n",
    "(5, 'Eva', 'Davis', 2, 'Sales'),\n",
    "(6, 'Frank', 'Miller', 1, 'Engineering'),\n",
    "(7, 'Grace', 'Wilson', 6, 'Engineering'),\n",
    "(8, 'Henry', 'Moore', 6, 'Engineering'),\n",
    "(9, 'Ivy', 'Clark', 3, 'Sales'),\n",
    "(10, 'Jack', 'Hall', 3, 'Sales');"
   ]
  },
  {
   "cell_type": "code",
   "execution_count": 0,
   "metadata": {
    "application/vnd.databricks.v1+cell": {
     "cellMetadata": {
      "byteLimit": 2048000,
      "rowLimit": 10000
     },
     "inputWidgets": {},
     "nuid": "7fbfe2d9-2c7e-43c7-af82-3db351bccf21",
     "showTitle": false,
     "tableResultSettingsMap": {
      "0": {
       "dataGridStateBlob": "{\"version\":1,\"tableState\":{\"columnPinning\":{\"left\":[\"#row_number#\"],\"right\":[]},\"columnSizing\":{},\"columnVisibility\":{}},\"settings\":{\"columns\":{}},\"syncTimestamp\":1758021052355}",
       "filterBlob": null,
       "queryPlanFiltersBlob": null,
       "tableResultIndex": 0
      }
     },
     "title": ""
    }
   },
   "outputs": [],
   "source": [
    "%sql\n",
    "-- Employee + Their Manager\n",
    "\n",
    "select distinct e1.first_name as employee, e2.first_name as manager, e1.department\n",
    "from emp as e1\n",
    "left join emp as e2\n",
    "on e1.manager_id = e2.emp_id;"
   ]
  },
  {
   "cell_type": "code",
   "execution_count": 0,
   "metadata": {
    "application/vnd.databricks.v1+cell": {
     "cellMetadata": {
      "byteLimit": 2048000,
      "rowLimit": 10000
     },
     "inputWidgets": {},
     "nuid": "775b1a10-6a5f-4da6-97a9-c91898f167d2",
     "showTitle": false,
     "tableResultSettingsMap": {},
     "title": ""
    }
   },
   "outputs": [],
   "source": [
    "%sql\n",
    "--Find Direct Reporting Managers counts\n",
    "\n",
    "SELECT e2.first_name as manager, COUNT(e1.emp_id) as team_size\n",
    "FROM emp e1\n",
    "LEFT JOIN emp e2\n",
    "ON e1.manager_id = e2.emp_id\n",
    "GROUP BY e2.first_name;"
   ]
  },
  {
   "cell_type": "code",
   "execution_count": 0,
   "metadata": {
    "application/vnd.databricks.v1+cell": {
     "cellMetadata": {
      "byteLimit": 2048000,
      "rowLimit": 10000
     },
     "inputWidgets": {},
     "nuid": "644a62c5-a436-4759-a768-c01e4e0e48cc",
     "showTitle": false,
     "tableResultSettingsMap": {
      "0": {
       "dataGridStateBlob": "{\"version\":1,\"tableState\":{\"columnPinning\":{\"left\":[\"#row_number#\"],\"right\":[]},\"columnSizing\":{},\"columnVisibility\":{}},\"settings\":{\"columns\":{}},\"syncTimestamp\":1758020706187}",
       "filterBlob": null,
       "queryPlanFiltersBlob": null,
       "tableResultIndex": 0
      }
     },
     "title": ""
    }
   },
   "outputs": [],
   "source": [
    "%sql\n",
    "--  Full audit of customers + orders (matched or not).\n",
    "\n",
    "SELECT c.first_name, c.last_name, o.order_id, od.product_name\n",
    "FROM customers c\n",
    "FULL OUTER JOIN orders o ON c.customer_id = o.customer_id\n",
    "FULL OUTER JOIN order_details od ON o.order_id = od.order_id;"
   ]
  },
  {
   "cell_type": "code",
   "execution_count": 0,
   "metadata": {
    "application/vnd.databricks.v1+cell": {
     "cellMetadata": {
      "byteLimit": 2048000,
      "rowLimit": 10000
     },
     "inputWidgets": {},
     "nuid": "1b068671-06a1-4bbc-80eb-715aadeb1b04",
     "showTitle": false,
     "tableResultSettingsMap": {},
     "title": ""
    }
   },
   "outputs": [],
   "source": [
    "%sql\n",
    "-- Get list of all unique customer cities + unique product categories.\n",
    "\n",
    "select distinct city from customers\n",
    "union\n",
    "select distinct category from order_details; "
   ]
  },
  {
   "cell_type": "code",
   "execution_count": 0,
   "metadata": {
    "application/vnd.databricks.v1+cell": {
     "cellMetadata": {
      "byteLimit": 2048000,
      "rowLimit": 10000
     },
     "inputWidgets": {},
     "nuid": "d6606467-7e4c-406b-a3d2-2bbf48b64660",
     "showTitle": false,
     "tableResultSettingsMap": {},
     "title": ""
    }
   },
   "outputs": [],
   "source": [
    "%sql\n",
    "-- Get list of all unique customer cities + unique product categories.(WITH DUPLICATES)\n",
    "\n",
    "select distinct city from customers\n",
    "union all\n",
    "select distinct category from order_details;"
   ]
  },
  {
   "cell_type": "code",
   "execution_count": 0,
   "metadata": {
    "application/vnd.databricks.v1+cell": {
     "cellMetadata": {
      "byteLimit": 2048000,
      "rowLimit": 10000
     },
     "inputWidgets": {},
     "nuid": "1ae8aa88-0caa-4d4b-9b8f-770cc30bdd94",
     "showTitle": false,
     "tableResultSettingsMap": {},
     "title": ""
    }
   },
   "outputs": [],
   "source": [
    "%sql\n",
    "-- Top 3 Customers by Spend\n",
    "\n",
    "select c.first_name, c.last_name, SUM(od.quantity * od.price_each) as total_spent\n",
    "from customers c\n",
    "inner join orders o on c.customer_id = o.customer_id\n",
    "inner join order_details od on o.order_id = od.order_id\n",
    "group by c.customer_id, c.first_name, c.last_name\n",
    "order by total_spent desc\n",
    "limit 3;"
   ]
  }
 ],
 "metadata": {
  "application/vnd.databricks.v1+notebook": {
   "computePreferences": null,
   "dashboards": [],
   "environmentMetadata": {
    "base_environment": "",
    "environment_version": "3"
   },
   "inputWidgetPreferences": null,
   "language": "python",
   "notebookMetadata": {
    "mostRecentlyExecutedCommandWithImplicitDF": {
     "commandId": 4728883418563992,
     "dataframes": [
      "_sqldf"
     ]
    },
    "pythonIndentUnit": 4
   },
   "notebookName": "Class 3",
   "widgets": {}
  },
  "language_info": {
   "name": "python"
  }
 },
 "nbformat": 4,
 "nbformat_minor": 0
}
